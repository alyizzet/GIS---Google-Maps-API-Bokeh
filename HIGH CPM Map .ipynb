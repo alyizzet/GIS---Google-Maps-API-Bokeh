{
 "cells": [
  {
   "cell_type": "code",
   "execution_count": 2,
   "metadata": {},
   "outputs": [],
   "source": [
    "import pandas as pd\n",
    "import matplotlib.pyplot as plt\n",
    "from clickhouse_driver import Client\n",
    "from bokeh.io import output_file, show\n",
    "from bokeh.models import ColumnDataSource, GMapOptions\n",
    "from bokeh.plotting import gmap\n",
    "from bokeh.io import export_png\n",
    "plt.rcParams['figure.figsize'] = [60, 7]\n",
    "%config IPCompleter.greedy=True\n",
    "\n",
    "\n",
    "client = Client(host='34.70.65.12', user = \"default\", password = \"\", database = \"\")\n",
    "\n",
    "\n",
    "output_file(\"gmap.html\")\n",
    "\n",
    "\n",
    "results,columns = client.execute(\"select win_cost_micros as cpm, geo_lat as lat ,geo_lon as lon from OrionLead.Wins_buffer where win_cost_micros> 10000 \", with_column_types=True)\n",
    "High_CPM = pd.DataFrame(results, columns=[tuple[0] for tuple in columns])\n",
    "map_options = GMapOptions(lat=0, lng=0, map_type=\"roadmap\", zoom=2)\n",
    "\n"
   ]
  },
  {
   "cell_type": "code",
   "execution_count": null,
   "metadata": {},
   "outputs": [],
   "source": [
    "p = gmap(\"??\", map_options, title=\"Specific Locations of High CPM Users\")\n",
    "p.circle(x=\"lon\", y=\"lat\", size=1, fill_color=\"blue\", fill_alpha=0.8, source= High_CPM)\n",
    "show(p)\n",
    "\n",
    "export_png(p, \"foo.png\")"
   ]
  },
  {
   "cell_type": "code",
   "execution_count": null,
   "metadata": {},
   "outputs": [],
   "source": [
    "High_CPM.head()"
   ]
  },
  {
   "cell_type": "code",
   "execution_count": null,
   "metadata": {},
   "outputs": [],
   "source": []
  }
 ],
 "metadata": {
  "kernelspec": {
   "display_name": "Python 3",
   "language": "python",
   "name": "python3"
  },
  "language_info": {
   "codemirror_mode": {
    "name": "ipython",
    "version": 3
   },
   "file_extension": ".py",
   "mimetype": "text/x-python",
   "name": "python",
   "nbconvert_exporter": "python",
   "pygments_lexer": "ipython3",
   "version": "3.7.1"
  }
 },
 "nbformat": 4,
 "nbformat_minor": 4
}
